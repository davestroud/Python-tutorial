{
 "cells": [
  {
   "cell_type": "code",
   "execution_count": 1,
   "metadata": {},
   "outputs": [],
   "source": [
    "import sys"
   ]
  },
  {
   "cell_type": "code",
   "execution_count": 2,
   "metadata": {},
   "outputs": [],
   "source": [
    "n = 10"
   ]
  },
  {
   "cell_type": "code",
   "execution_count": 3,
   "metadata": {},
   "outputs": [
    {
     "name": "stdout",
     "output_type": "stream",
     "text": [
      "0 1\n",
      "1 2\n",
      "2 4\n",
      "3 8\n",
      "4 16\n",
      "5 32\n",
      "6 64\n",
      "7 128\n",
      "8 256\n",
      "9 512\n",
      "10 1024\n"
     ]
    }
   ],
   "source": [
    "power = 1\n",
    "i = 0\n",
    "while i <= n:\n",
    "    print(str(i) + ' ' + str(power))\n",
    "    power = 2 * power\n",
    "    i = i + 1"
   ]
  },
  {
   "cell_type": "code",
   "execution_count": 4,
   "metadata": {},
   "outputs": [],
   "source": [
    "def get_primes(n):\n",
    "    \"\"\"Return list of all primes less than n,\n",
    "    Using sieve of Eratosthenes.\n",
    "    \"\"\"\n",
    "    if n <= 0:\n",
    "        raise ValueError(\"'n' must be a positive integer.\")\n",
    "    # If x is even, exclude x from list (-1):\n",
    "    sieve_size = (n // 2 - 1) if n % 2 == 0 else (n // 2)\n",
    "    sieve = [True for _ in range(sieve_size)]   # Sieve\n",
    "    primes = []      # List of Primes\n",
    "    if n >= 2:\n",
    "        primes.append(2)      # 2 is prime by default\n",
    "    for i in range(sieve_size):\n",
    "        if sieve[i]:\n",
    "            value_at_i = i*2 + 3\n",
    "            primes.append(value_at_i)\n",
    "            for j in range(i, sieve_size, value_at_i):\n",
    "                sieve[j] = False\n",
    "    return primes"
   ]
  },
  {
   "cell_type": "code",
   "execution_count": 6,
   "metadata": {},
   "outputs": [
    {
     "data": {
      "text/plain": [
       "[2, 3, 5, 7, 11]"
      ]
     },
     "execution_count": 6,
     "metadata": {},
     "output_type": "execute_result"
    }
   ],
   "source": [
    "get_primes(12)"
   ]
  },
  {
   "cell_type": "code",
   "execution_count": null,
   "metadata": {},
   "outputs": [],
   "source": []
  }
 ],
 "metadata": {
  "kernelspec": {
   "display_name": "Python 3",
   "language": "python",
   "name": "python3"
  },
  "language_info": {
   "codemirror_mode": {
    "name": "ipython",
    "version": 3
   },
   "file_extension": ".py",
   "mimetype": "text/x-python",
   "name": "python",
   "nbconvert_exporter": "python",
   "pygments_lexer": "ipython3",
   "version": "3.7.5"
  }
 },
 "nbformat": 4,
 "nbformat_minor": 2
}
